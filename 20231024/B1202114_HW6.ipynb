{
  "nbformat": 4,
  "nbformat_minor": 0,
  "metadata": {
    "colab": {
      "provenance": []
    },
    "kernelspec": {
      "name": "python3",
      "display_name": "Python 3"
    },
    "language_info": {
      "name": "python"
    }
  },
  "cells": [
    {
      "cell_type": "code",
      "execution_count": 44,
      "metadata": {
        "colab": {
          "base_uri": "https://localhost:8080/"
        },
        "id": "QJZibqxYcETA",
        "outputId": "517e3cf9-4999-4a39-ca6b-6b4a1ba8815c"
      },
      "outputs": [
        {
          "output_type": "stream",
          "name": "stdout",
          "text": [
            "number: 9\n",
            "        *        \n",
            "       ***       \n",
            "      *****      \n",
            "     *******     \n",
            "    *********    \n",
            "   ***********   \n",
            "  *************  \n",
            " *************** \n",
            "*****************\n",
            "       ***       \n",
            "       ***       \n",
            "       ***       \n",
            "       ***       \n",
            "       ***       \n"
          ]
        }
      ],
      "source": [
        "def tree(a):\n",
        "  a = int(input('number: '))\n",
        "  l = int(2*a)-1\n",
        "  o = int((l-3)/2)\n",
        "  for i in range(1,l+1,2):\n",
        "    k = int((l-i)/2)\n",
        "    print(' '*k+'*'*i+' '*k)\n",
        "  for i in range(1,6):\n",
        "    print(' '*o+'*'*3+' '*o)\n",
        "tree(a)"
      ]
    },
    {
      "cell_type": "code",
      "source": [
        "def bmi(a,b):\n",
        "  try:\n",
        "    a = float(input('enter height: '))\n",
        "    b = float(input('enter weight: '))\n",
        "    x = b/(a**2)\n",
        "    if x>=27:\n",
        "      return('bmi='+str(x),'體位: 肥胖')\n",
        "    elif x>=24 and x<=27:\n",
        "      return('bmi='+str(x),'體位: 過重')\n",
        "    elif x>=18.5 and x<=24:\n",
        "      return('bmi='+str(x),'體位: 適中')\n",
        "    else:\n",
        "      return('bmi='+str(x),'體位: 過輕')\n",
        "\n",
        "  except Exception:\n",
        "    return('number!')\n",
        "bmi(a,b)"
      ],
      "metadata": {
        "colab": {
          "base_uri": "https://localhost:8080/"
        },
        "id": "F189s_Pljx4S",
        "outputId": "98e0bad6-36fc-4ab1-fc8f-37704c253ef4"
      },
      "execution_count": 45,
      "outputs": [
        {
          "name": "stdout",
          "output_type": "stream",
          "text": [
            "enter height: 1.8\n",
            "enter weight: 60\n"
          ]
        },
        {
          "output_type": "execute_result",
          "data": {
            "text/plain": [
              "('bmi=18.51851851851852', '體位: 適中')"
            ]
          },
          "metadata": {},
          "execution_count": 45
        }
      ]
    }
  ]
}