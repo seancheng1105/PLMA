{
  "nbformat": 4,
  "nbformat_minor": 0,
  "metadata": {
    "colab": {
      "provenance": []
    },
    "kernelspec": {
      "name": "python3",
      "display_name": "Python 3"
    },
    "language_info": {
      "name": "python"
    }
  },
  "cells": [
    {
      "cell_type": "code",
      "execution_count": null,
      "metadata": {
        "colab": {
          "base_uri": "https://localhost:8080/"
        },
        "id": "vFOqpSLTt81s",
        "outputId": "636d9f40-8203-4b41-c936-18f8460f6f91"
      },
      "outputs": [
        {
          "output_type": "stream",
          "name": "stdout",
          "text": [
            "        *        \n",
            "       ***       \n",
            "      *****      \n",
            "     *******     \n",
            "    *********    \n",
            "   ***********   \n",
            "  *************  \n",
            " *************** \n",
            "*****************\n",
            "       ***       \n",
            "       ***       \n",
            "       ***       \n",
            "       ***       \n",
            "       ***       \n"
          ]
        }
      ],
      "source": [
        "l = 17\n",
        "o = int((l-3)/2)\n",
        "for i in range(1,18,2):\n",
        "  k = int((17-i)/2)\n",
        "  print(' '*k+'*'*i+' '*k)\n",
        "for i in range(1,6):\n",
        "  print(' '*o+'*'*3+' '*o)"
      ]
    },
    {
      "cell_type": "code",
      "source": [
        "import random\n",
        "a = random.sample(range(1, 10), 4)\n",
        "print(a)\n",
        "l = 0\n",
        "j = 0\n",
        "k = 0\n",
        "s = 0\n",
        "t = 0\n",
        "while l!=4:\n",
        "  l = 0\n",
        "  j = 0\n",
        "  k = 0\n",
        "  b = list(input('enter four numbers：'))\n",
        "  if len(b)==4:\n",
        "    for i in b:\n",
        "      if int(b[k]) == a[k]:\n",
        "        l += 1\n",
        "      else:\n",
        "        if int(b[k]) in a:\n",
        "          j += 1\n",
        "      k += 1\n",
        "    print(str(l)+'A'+str(j)+'B')\n",
        "    s+=1\n",
        "  else:\n",
        "    print('4 numbers!')\n",
        "    continue\n",
        "print('Right！')\n",
        "print('guess '+str(s)+' times')"
      ],
      "metadata": {
        "id": "8iCjmG9K6INm",
        "colab": {
          "base_uri": "https://localhost:8080/"
        },
        "outputId": "929aa4d1-fa5e-4b97-d8d7-53516cd6f98e"
      },
      "execution_count": 25,
      "outputs": [
        {
          "output_type": "stream",
          "name": "stdout",
          "text": [
            "[6, 4, 5, 8]\n",
            "enter four numbers：6542\n",
            "1A2B\n",
            "enter four numbers：65\n",
            "4 numbers!\n",
            "enter four numbers：6458\n",
            "4A0B\n",
            "Right！\n",
            "guess 2 times\n"
          ]
        }
      ]
    }
  ]
}