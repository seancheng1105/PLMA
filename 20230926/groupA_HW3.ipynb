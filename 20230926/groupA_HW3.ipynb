{
  "nbformat": 4,
  "nbformat_minor": 0,
  "metadata": {
    "colab": {
      "provenance": []
    },
    "kernelspec": {
      "name": "python3",
      "display_name": "Python 3"
    },
    "language_info": {
      "name": "python"
    }
  },
  "cells": [
    {
      "cell_type": "code",
      "execution_count": null,
      "metadata": {
        "colab": {
          "base_uri": "https://localhost:8080/"
        },
        "id": "crkC3IooqMjJ",
        "outputId": "490fd257-d38f-4383-ac5a-a8bcc25067f9"
      },
      "outputs": [
        {
          "output_type": "stream",
          "name": "stdout",
          "text": [
            "I'm a student\n"
          ]
        }
      ],
      "source": [
        "print('I'+str(\"'\")+'m a student')"
      ]
    },
    {
      "cell_type": "code",
      "source": [
        "a, b = input('please enter (x1,y1): ').split()\n",
        "c, d = input('please enter (x2,y2): ').split()\n",
        "print(((int(a)-int(c))**2+(int(b)-int(d))**2)**0.5)"
      ],
      "metadata": {
        "id": "AkVUS37RqZsE",
        "colab": {
          "base_uri": "https://localhost:8080/"
        },
        "outputId": "2a5b6a65-b898-444d-e1ba-b24a30ba8c55"
      },
      "execution_count": null,
      "outputs": [
        {
          "output_type": "stream",
          "name": "stdout",
          "text": [
            "please enter (x1,y1): 0 0\n",
            "please enter (x2,y2): 3 4\n",
            "5.0\n"
          ]
        }
      ]
    },
    {
      "cell_type": "code",
      "source": [
        "a = float(input('enter height: '))\n",
        "b = float(input('enter weight: '))\n",
        "b /= (a**2)\n",
        "print(int(b<18.5))"
      ],
      "metadata": {
        "colab": {
          "base_uri": "https://localhost:8080/"
        },
        "id": "ZlPg5ryj6KSW",
        "outputId": "552ad3b9-86f8-46df-e4de-a5862ffe7888"
      },
      "execution_count": null,
      "outputs": [
        {
          "output_type": "stream",
          "name": "stdout",
          "text": [
            "enter height: 1.99\n",
            "enter weight: 50\n",
            "1\n"
          ]
        }
      ]
    }
  ]
}