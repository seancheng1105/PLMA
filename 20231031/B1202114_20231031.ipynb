{
  "nbformat": 4,
  "nbformat_minor": 0,
  "metadata": {
    "colab": {
      "provenance": []
    },
    "kernelspec": {
      "name": "python3",
      "display_name": "Python 3"
    },
    "language_info": {
      "name": "python"
    }
  },
  "cells": [
    {
      "cell_type": "code",
      "execution_count": 20,
      "metadata": {
        "colab": {
          "base_uri": "https://localhost:8080/"
        },
        "id": "n5ee8w9xfda6",
        "outputId": "166601da-3d55-482a-ce14-876e778c11c0"
      },
      "outputs": [
        {
          "output_type": "stream",
          "name": "stdout",
          "text": [
            "enter: 78\n",
            "78 is not prime, closest prime is 73\n"
          ]
        }
      ],
      "source": [
        "def prime(num):\n",
        "    if num <= 1:\n",
        "        return False\n",
        "    if num == 2:\n",
        "        return True\n",
        "    if num % 2 == 0:\n",
        "        return False\n",
        "    for i in range(3, int(num**0.5) + 1, 2):\n",
        "        if num % i == 0:\n",
        "            return False\n",
        "    return True\n",
        "\n",
        "def closest_prime(num):\n",
        "    if num <= 0:\n",
        "        return \"enter>0: \"\n",
        "\n",
        "    if prime(num):\n",
        "        return f\"{num} is prime\"\n",
        "\n",
        "    lower_prime = num - 1\n",
        "    while not prime(lower_prime):\n",
        "        lower_prime -= 1\n",
        "\n",
        "    return f\"{num} is not prime, closest prime is {lower_prime}\"\n",
        "\n",
        "try:\n",
        "    num = int(input(\"enter: \"))\n",
        "    result = closest_prime(num)\n",
        "    print(result)\n",
        "except ValueError:\n",
        "    print(\"invalid!\")"
      ]
    },
    {
      "cell_type": "code",
      "source": [
        "a = input(\"enter: \")\n",
        "n = [int(num) for num in a.split(',')]\n",
        "\n",
        "\n",
        "c = []\n",
        "\n",
        "\n",
        "for i in range(len(n)):\n",
        "    count = sum(1 for num in n if num < n[i])\n",
        "    c.append(count)\n",
        "\n",
        "\n",
        "print(c)"
      ],
      "metadata": {
        "colab": {
          "base_uri": "https://localhost:8080/"
        },
        "id": "05fDGRnEjMzA",
        "outputId": "b1a1f3a2-4172-4fbf-d107-dbe3291c6f71"
      },
      "execution_count": 21,
      "outputs": [
        {
          "output_type": "stream",
          "name": "stdout",
          "text": [
            "enter: 8,1,2,2,3\n",
            "[4, 0, 1, 1, 3]\n"
          ]
        }
      ]
    },
    {
      "cell_type": "code",
      "source": [
        "a = input(\"enter: \")\n",
        "b = [int(c) for c in a]\n",
        "d = []\n",
        "for i in range(len(b)):\n",
        "    e = 0\n",
        "    for j in range(len(b)):\n",
        "        if b[j] == 1:\n",
        "            e += abs(j - i)\n",
        "    d.append(e)\n",
        "print(d)"
      ],
      "metadata": {
        "colab": {
          "base_uri": "https://localhost:8080/"
        },
        "id": "vFw-l6ndqBni",
        "outputId": "7aca65e9-e1d4-49d2-c800-f595f8cb14f9"
      },
      "execution_count": 22,
      "outputs": [
        {
          "output_type": "stream",
          "name": "stdout",
          "text": [
            "enter: 001011\n",
            "[11, 8, 5, 4, 3, 4]\n"
          ]
        }
      ]
    }
  ]
}