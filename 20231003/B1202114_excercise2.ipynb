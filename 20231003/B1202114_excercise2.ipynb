{
  "nbformat": 4,
  "nbformat_minor": 0,
  "metadata": {
    "colab": {
      "provenance": []
    },
    "kernelspec": {
      "name": "python3",
      "display_name": "Python 3"
    },
    "language_info": {
      "name": "python"
    }
  },
  "cells": [
    {
      "cell_type": "code",
      "execution_count": null,
      "metadata": {
        "colab": {
          "base_uri": "https://localhost:8080/"
        },
        "id": "7rgmNRC7SSY5",
        "outputId": "a8c418cd-eb3b-4796-828a-1293812c153d"
      },
      "outputs": [
        {
          "output_type": "stream",
          "name": "stdout",
          "text": [
            "A\n",
            "['K', 'H', 'U']\n"
          ]
        }
      ],
      "source": [
        "a = 'C,B,A'\n",
        "b = ['F', 'G', 'H']\n",
        "a = a.split(',')\n",
        "a += b\n",
        "a[0] = 'K'\n",
        "print(a.pop(2))\n",
        "del a[1:4]\n",
        "a.append('U')\n",
        "print(a)"
      ]
    },
    {
      "cell_type": "code",
      "source": [
        "a = float(input('enter height: '))\n",
        "b = float(input('enter weight: '))\n",
        "bmi = b/(a**2)\n",
        "print('bmi: '+ str(bmi))\n",
        "if bmi>=27:\n",
        "  print('體位: 肥胖')\n",
        "elif bmi>=24 and bmi<=27:\n",
        "  print('體位: 過重')\n",
        "elif bmi>=18.5 and bmi<=24:\n",
        "  print('體位: 適中')\n",
        "else:\n",
        "  print('體位: 過輕')"
      ],
      "metadata": {
        "colab": {
          "base_uri": "https://localhost:8080/"
        },
        "id": "xTSekeZNhrkr",
        "outputId": "2188da7c-b15c-4472-f159-c63f1ff6274b"
      },
      "execution_count": null,
      "outputs": [
        {
          "output_type": "stream",
          "name": "stdout",
          "text": [
            "enter height: 1.8\n",
            "enter weight: 60\n",
            "bmi: 18.51851851851852\n",
            "體位: 適中\n"
          ]
        }
      ]
    }
  ]
}