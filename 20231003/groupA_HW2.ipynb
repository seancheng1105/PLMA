{
  "nbformat": 4,
  "nbformat_minor": 0,
  "metadata": {
    "colab": {
      "provenance": []
    },
    "kernelspec": {
      "name": "python3",
      "display_name": "Python 3"
    },
    "language_info": {
      "name": "python"
    }
  },
  "cells": [
    {
      "cell_type": "code",
      "execution_count": null,
      "metadata": {
        "colab": {
          "base_uri": "https://localhost:8080/"
        },
        "id": "sjiDp0nxnu_u",
        "outputId": "148783cc-6b34-4562-c167-8ee530061a32"
      },
      "outputs": [
        {
          "output_type": "stream",
          "name": "stdout",
          "text": [
            "enter a list: 100 30 40 50 60\n",
            "50.0\n"
          ]
        }
      ],
      "source": [
        "a = (input('enter a list: ')).split()\n",
        "for i in range(0,5):\n",
        "  a[i] = int(a[i])\n",
        "a = sorted(a)\n",
        "del a[0]\n",
        "del a[3]\n",
        "print((a[0]+a[1]+a[2])/3)"
      ]
    },
    {
      "cell_type": "code",
      "source": [
        "a = float(input('enter first number: '))\n",
        "b = input('enter a symbol')\n",
        "c = float(input('enter second number: '))\n",
        "if b == \"+\":\n",
        "  print(a+c)\n",
        "elif b == \"-\":\n",
        "  print(a-c)\n",
        "elif b == '*':\n",
        "  print(a*c)\n",
        "elif b == '/':\n",
        "  print(a/c)\n",
        "else:\n",
        "  print('error')"
      ],
      "metadata": {
        "id": "j6ViJ4dM5DUm",
        "colab": {
          "base_uri": "https://localhost:8080/"
        },
        "outputId": "e956f148-9135-490b-88cc-080a51c3c5f8"
      },
      "execution_count": null,
      "outputs": [
        {
          "output_type": "stream",
          "name": "stdout",
          "text": [
            "enter first number: 2\n",
            "enter a symbol/\n",
            "enter second number8\n",
            "0.25\n"
          ]
        }
      ]
    },
    {
      "cell_type": "code",
      "source": [
        "a = float(input(\"enter a year: \"))\n",
        "if a > 1852:\n",
        "  if a%4 == 0:\n",
        "    if a%100 == 0:\n",
        "      if a%400 == 0:\n",
        "        print('閏年')\n",
        "      else:\n",
        "        print('平年')\n",
        "    else:\n",
        "      print('平年')\n",
        "  else:\n",
        "    print('平年')\n",
        "else:\n",
        "  if a%4 == 0:\n",
        "    print('閏年')\n",
        "  else:\n",
        "    print('平年')\n"
      ],
      "metadata": {
        "id": "HOQrkkL1LUW5",
        "colab": {
          "base_uri": "https://localhost:8080/"
        },
        "outputId": "10a1ab29-b076-4654-fd3a-109892b365e0"
      },
      "execution_count": 1,
      "outputs": [
        {
          "output_type": "stream",
          "name": "stdout",
          "text": [
            "enter a year: 2022\n",
            "平年\n"
          ]
        }
      ]
    }
  ]
}